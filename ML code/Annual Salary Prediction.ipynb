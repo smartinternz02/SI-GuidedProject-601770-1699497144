{
 "cells": [
  {
   "cell_type": "markdown",
   "id": "ac5b7831",
   "metadata": {},
   "source": [
    "# Installing Packages"
   ]
  },
  {
   "cell_type": "code",
   "execution_count": 3,
   "id": "cde54985",
   "metadata": {},
   "outputs": [
    {
     "name": "stdout",
     "output_type": "stream",
     "text": [
      "Requirement already satisfied: seaborn in c:\\python311\\lib\\site-packages (0.13.0)\n",
      "Requirement already satisfied: numpy!=1.24.0,>=1.20 in c:\\python311\\lib\\site-packages (from seaborn) (1.25.2)\n",
      "Requirement already satisfied: pandas>=1.2 in c:\\python311\\lib\\site-packages (from seaborn) (2.0.3)\n",
      "Requirement already satisfied: matplotlib!=3.6.1,>=3.3 in c:\\python311\\lib\\site-packages (from seaborn) (3.7.2)\n",
      "Requirement already satisfied: contourpy>=1.0.1 in c:\\python311\\lib\\site-packages (from matplotlib!=3.6.1,>=3.3->seaborn) (1.1.0)\n",
      "Requirement already satisfied: cycler>=0.10 in c:\\python311\\lib\\site-packages (from matplotlib!=3.6.1,>=3.3->seaborn) (0.11.0)\n",
      "Requirement already satisfied: fonttools>=4.22.0 in c:\\python311\\lib\\site-packages (from matplotlib!=3.6.1,>=3.3->seaborn) (4.42.0)\n",
      "Requirement already satisfied: kiwisolver>=1.0.1 in c:\\python311\\lib\\site-packages (from matplotlib!=3.6.1,>=3.3->seaborn) (1.4.4)\n",
      "Requirement already satisfied: packaging>=20.0 in c:\\python311\\lib\\site-packages (from matplotlib!=3.6.1,>=3.3->seaborn) (23.1)\n",
      "Requirement already satisfied: pillow>=6.2.0 in c:\\python311\\lib\\site-packages (from matplotlib!=3.6.1,>=3.3->seaborn) (10.0.0)\n",
      "Requirement already satisfied: pyparsing<3.1,>=2.3.1 in c:\\python311\\lib\\site-packages (from matplotlib!=3.6.1,>=3.3->seaborn) (3.0.9)\n",
      "Requirement already satisfied: python-dateutil>=2.7 in c:\\python311\\lib\\site-packages (from matplotlib!=3.6.1,>=3.3->seaborn) (2.8.2)\n",
      "Requirement already satisfied: pytz>=2020.1 in c:\\python311\\lib\\site-packages (from pandas>=1.2->seaborn) (2023.3)\n",
      "Requirement already satisfied: tzdata>=2022.1 in c:\\python311\\lib\\site-packages (from pandas>=1.2->seaborn) (2023.3)\n",
      "Requirement already satisfied: six>=1.5 in c:\\python311\\lib\\site-packages (from python-dateutil>=2.7->matplotlib!=3.6.1,>=3.3->seaborn) (1.16.0)\n"
     ]
    },
    {
     "name": "stderr",
     "output_type": "stream",
     "text": [
      "\n",
      "[notice] A new release of pip is available: 23.1.2 -> 23.3.1\n",
      "[notice] To update, run: C:\\Python311\\python.exe -m pip install --upgrade pip\n"
     ]
    },
    {
     "name": "stdout",
     "output_type": "stream",
     "text": [
      "Requirement already satisfied: pandas in c:\\python311\\lib\\site-packages (2.0.3)\n",
      "Requirement already satisfied: python-dateutil>=2.8.2 in c:\\python311\\lib\\site-packages (from pandas) (2.8.2)\n",
      "Requirement already satisfied: pytz>=2020.1 in c:\\python311\\lib\\site-packages (from pandas) (2023.3)\n",
      "Requirement already satisfied: tzdata>=2022.1 in c:\\python311\\lib\\site-packages (from pandas) (2023.3)\n",
      "Requirement already satisfied: numpy>=1.21.0 in c:\\python311\\lib\\site-packages (from pandas) (1.25.2)\n",
      "Requirement already satisfied: six>=1.5 in c:\\python311\\lib\\site-packages (from python-dateutil>=2.8.2->pandas) (1.16.0)\n"
     ]
    },
    {
     "name": "stderr",
     "output_type": "stream",
     "text": [
      "\n",
      "[notice] A new release of pip is available: 23.1.2 -> 23.3.1\n",
      "[notice] To update, run: C:\\Python311\\python.exe -m pip install --upgrade pip\n"
     ]
    }
   ],
   "source": [
    "import sys\n",
    "!{sys.executable} -m pip install seaborn\n",
    "!{sys.executable} -m pip install pandas"
   ]
  },
  {
   "cell_type": "markdown",
   "id": "80dc9245",
   "metadata": {},
   "source": [
    "# Importing necessary packages"
   ]
  },
  {
   "cell_type": "code",
   "execution_count": 99,
   "id": "4802f193",
   "metadata": {},
   "outputs": [],
   "source": [
    "import pandas as pd\n",
    "import numpy as np\n",
    "import matplotlib.pyplot as plt\n",
    "import seaborn as sns\n",
    "from sklearn.model_selection import train_test_split"
   ]
  },
  {
   "cell_type": "markdown",
   "id": "1cc63c5b",
   "metadata": {},
   "source": [
    "# Reading the Dataset"
   ]
  },
  {
   "cell_type": "code",
   "execution_count": 119,
   "id": "4447f9de",
   "metadata": {},
   "outputs": [],
   "source": [
    "df = pd.read_csv(\"../dataset/Doctors_job_dataset.csv\")"
   ]
  },
  {
   "cell_type": "code",
   "execution_count": 120,
   "id": "615280b0",
   "metadata": {},
   "outputs": [
    {
     "data": {
      "text/html": [
       "<div>\n",
       "<style scoped>\n",
       "    .dataframe tbody tr th:only-of-type {\n",
       "        vertical-align: middle;\n",
       "    }\n",
       "\n",
       "    .dataframe tbody tr th {\n",
       "        vertical-align: top;\n",
       "    }\n",
       "\n",
       "    .dataframe thead th {\n",
       "        text-align: right;\n",
       "    }\n",
       "</style>\n",
       "<table border=\"1\" class=\"dataframe\">\n",
       "  <thead>\n",
       "    <tr style=\"text-align: right;\">\n",
       "      <th></th>\n",
       "      <th>S.No</th>\n",
       "      <th>Resume Title</th>\n",
       "      <th>Work Exp</th>\n",
       "      <th>Annual Salary</th>\n",
       "      <th>Current Location</th>\n",
       "      <th>Preferred Location</th>\n",
       "      <th>Designation</th>\n",
       "      <th>U.G. Course</th>\n",
       "      <th>P. G. Course</th>\n",
       "      <th>Post P. G. Course</th>\n",
       "      <th>Age/Date of Birth</th>\n",
       "      <th>Resume ID</th>\n",
       "      <th>Last Active Date</th>\n",
       "    </tr>\n",
       "  </thead>\n",
       "  <tbody>\n",
       "    <tr>\n",
       "      <th>0</th>\n",
       "      <td>1</td>\n",
       "      <td>Experienced Dermatologist with 5 years plus ex...</td>\n",
       "      <td>5.8</td>\n",
       "      <td>10.0</td>\n",
       "      <td>Kolkata</td>\n",
       "      <td>Kolkata</td>\n",
       "      <td>NaN</td>\n",
       "      <td>Mbbs</td>\n",
       "      <td>Md Dermatology</td>\n",
       "      <td>Dr</td>\n",
       "      <td>40.0</td>\n",
       "      <td>0c264007658bd1c224</td>\n",
       "      <td>2016</td>\n",
       "    </tr>\n",
       "    <tr>\n",
       "      <th>1</th>\n",
       "      <td>2</td>\n",
       "      <td>M.B.B.S.,D.D.V.(Skin) with 5 yrs experience.</td>\n",
       "      <td>5.0</td>\n",
       "      <td>10.5</td>\n",
       "      <td>Dubai</td>\n",
       "      <td>Dubai</td>\n",
       "      <td>Consultant Dermatologist And Cosmetologist</td>\n",
       "      <td>Mbbs</td>\n",
       "      <td>Pg Diploma</td>\n",
       "      <td>NaN</td>\n",
       "      <td>40.0</td>\n",
       "      <td>3697d8852652123c53</td>\n",
       "      <td>2014</td>\n",
       "    </tr>\n",
       "    <tr>\n",
       "      <th>2</th>\n",
       "      <td>3</td>\n",
       "      <td>MBBS, D.V.D &amp; DNB (Dermatology) with 7 yrs exp...</td>\n",
       "      <td>8.2</td>\n",
       "      <td>30.0</td>\n",
       "      <td>Dubai</td>\n",
       "      <td>All India</td>\n",
       "      <td>Dermatologist</td>\n",
       "      <td>Mbbs</td>\n",
       "      <td>Dnb</td>\n",
       "      <td>NaN</td>\n",
       "      <td>48.0</td>\n",
       "      <td>4b98d6db4fc0b5b012</td>\n",
       "      <td>2009</td>\n",
       "    </tr>\n",
       "    <tr>\n",
       "      <th>3</th>\n",
       "      <td>4</td>\n",
       "      <td>MBBS; DNB, FCPS,DDV with 6yrs of Exp.</td>\n",
       "      <td>7.0</td>\n",
       "      <td>9.6</td>\n",
       "      <td>Mumbai</td>\n",
       "      <td>Mumbai</td>\n",
       "      <td>NaN</td>\n",
       "      <td>Mbbs</td>\n",
       "      <td>Dnb Dermatology</td>\n",
       "      <td>D.d.v</td>\n",
       "      <td>41.0</td>\n",
       "      <td>59063066742215cd70</td>\n",
       "      <td>2013</td>\n",
       "    </tr>\n",
       "    <tr>\n",
       "      <th>4</th>\n",
       "      <td>5</td>\n",
       "      <td>Medical and cosmetic dermatology and dermatosu...</td>\n",
       "      <td>10.0</td>\n",
       "      <td>15.0</td>\n",
       "      <td>New Delhi</td>\n",
       "      <td>Delhi / Ncr</td>\n",
       "      <td>Consultant Dermatologist And Cosmetologist</td>\n",
       "      <td>Mbbs</td>\n",
       "      <td>Pg Diploma</td>\n",
       "      <td>NaN</td>\n",
       "      <td>40.0</td>\n",
       "      <td>1aea93342d8c652a71</td>\n",
       "      <td>2018</td>\n",
       "    </tr>\n",
       "  </tbody>\n",
       "</table>\n",
       "</div>"
      ],
      "text/plain": [
       "   S.No                                       Resume Title  Work Exp  \\\n",
       "0     1  Experienced Dermatologist with 5 years plus ex...       5.8   \n",
       "1     2       M.B.B.S.,D.D.V.(Skin) with 5 yrs experience.       5.0   \n",
       "2     3  MBBS, D.V.D & DNB (Dermatology) with 7 yrs exp...       8.2   \n",
       "3     4              MBBS; DNB, FCPS,DDV with 6yrs of Exp.       7.0   \n",
       "4     5  Medical and cosmetic dermatology and dermatosu...      10.0   \n",
       "\n",
       "   Annual Salary Current Location Preferred Location  \\\n",
       "0           10.0          Kolkata            Kolkata   \n",
       "1           10.5            Dubai              Dubai   \n",
       "2           30.0            Dubai          All India   \n",
       "3            9.6           Mumbai             Mumbai   \n",
       "4           15.0        New Delhi        Delhi / Ncr   \n",
       "\n",
       "                                  Designation U.G. Course     P. G. Course  \\\n",
       "0                                         NaN        Mbbs   Md Dermatology   \n",
       "1  Consultant Dermatologist And Cosmetologist        Mbbs       Pg Diploma   \n",
       "2                               Dermatologist        Mbbs              Dnb   \n",
       "3                                         NaN        Mbbs  Dnb Dermatology   \n",
       "4  Consultant Dermatologist And Cosmetologist        Mbbs       Pg Diploma   \n",
       "\n",
       "  Post P. G. Course  Age/Date of Birth           Resume ID  Last Active Date  \n",
       "0                Dr               40.0  0c264007658bd1c224              2016  \n",
       "1               NaN               40.0  3697d8852652123c53              2014  \n",
       "2               NaN               48.0  4b98d6db4fc0b5b012              2009  \n",
       "3             D.d.v               41.0  59063066742215cd70              2013  \n",
       "4               NaN               40.0  1aea93342d8c652a71              2018  "
      ]
     },
     "execution_count": 120,
     "metadata": {},
     "output_type": "execute_result"
    }
   ],
   "source": [
    "df.head()"
   ]
  },
  {
   "cell_type": "code",
   "execution_count": 121,
   "id": "3d1f4045",
   "metadata": {},
   "outputs": [
    {
     "data": {
      "text/html": [
       "<div>\n",
       "<style scoped>\n",
       "    .dataframe tbody tr th:only-of-type {\n",
       "        vertical-align: middle;\n",
       "    }\n",
       "\n",
       "    .dataframe tbody tr th {\n",
       "        vertical-align: top;\n",
       "    }\n",
       "\n",
       "    .dataframe thead th {\n",
       "        text-align: right;\n",
       "    }\n",
       "</style>\n",
       "<table border=\"1\" class=\"dataframe\">\n",
       "  <thead>\n",
       "    <tr style=\"text-align: right;\">\n",
       "      <th></th>\n",
       "      <th>Work Exp</th>\n",
       "      <th>Annual Salary</th>\n",
       "      <th>Current Location</th>\n",
       "      <th>Designation</th>\n",
       "      <th>U.G. Course</th>\n",
       "      <th>P. G. Course</th>\n",
       "      <th>Post P. G. Course</th>\n",
       "    </tr>\n",
       "  </thead>\n",
       "  <tbody>\n",
       "    <tr>\n",
       "      <th>0</th>\n",
       "      <td>5.8</td>\n",
       "      <td>10.0</td>\n",
       "      <td>Kolkata</td>\n",
       "      <td>NaN</td>\n",
       "      <td>Mbbs</td>\n",
       "      <td>Md Dermatology</td>\n",
       "      <td>Dr</td>\n",
       "    </tr>\n",
       "    <tr>\n",
       "      <th>1</th>\n",
       "      <td>5.0</td>\n",
       "      <td>10.5</td>\n",
       "      <td>Dubai</td>\n",
       "      <td>Consultant Dermatologist And Cosmetologist</td>\n",
       "      <td>Mbbs</td>\n",
       "      <td>Pg Diploma</td>\n",
       "      <td>NaN</td>\n",
       "    </tr>\n",
       "    <tr>\n",
       "      <th>2</th>\n",
       "      <td>8.2</td>\n",
       "      <td>30.0</td>\n",
       "      <td>Dubai</td>\n",
       "      <td>Dermatologist</td>\n",
       "      <td>Mbbs</td>\n",
       "      <td>Dnb</td>\n",
       "      <td>NaN</td>\n",
       "    </tr>\n",
       "    <tr>\n",
       "      <th>3</th>\n",
       "      <td>7.0</td>\n",
       "      <td>9.6</td>\n",
       "      <td>Mumbai</td>\n",
       "      <td>NaN</td>\n",
       "      <td>Mbbs</td>\n",
       "      <td>Dnb Dermatology</td>\n",
       "      <td>D.d.v</td>\n",
       "    </tr>\n",
       "    <tr>\n",
       "      <th>4</th>\n",
       "      <td>10.0</td>\n",
       "      <td>15.0</td>\n",
       "      <td>New Delhi</td>\n",
       "      <td>Consultant Dermatologist And Cosmetologist</td>\n",
       "      <td>Mbbs</td>\n",
       "      <td>Pg Diploma</td>\n",
       "      <td>NaN</td>\n",
       "    </tr>\n",
       "  </tbody>\n",
       "</table>\n",
       "</div>"
      ],
      "text/plain": [
       "   Work Exp  Annual Salary Current Location  \\\n",
       "0       5.8           10.0          Kolkata   \n",
       "1       5.0           10.5            Dubai   \n",
       "2       8.2           30.0            Dubai   \n",
       "3       7.0            9.6           Mumbai   \n",
       "4      10.0           15.0        New Delhi   \n",
       "\n",
       "                                  Designation U.G. Course     P. G. Course  \\\n",
       "0                                         NaN        Mbbs   Md Dermatology   \n",
       "1  Consultant Dermatologist And Cosmetologist        Mbbs       Pg Diploma   \n",
       "2                               Dermatologist        Mbbs              Dnb   \n",
       "3                                         NaN        Mbbs  Dnb Dermatology   \n",
       "4  Consultant Dermatologist And Cosmetologist        Mbbs       Pg Diploma   \n",
       "\n",
       "  Post P. G. Course  \n",
       "0                Dr  \n",
       "1               NaN  \n",
       "2               NaN  \n",
       "3             D.d.v  \n",
       "4               NaN  "
      ]
     },
     "execution_count": 121,
     "metadata": {},
     "output_type": "execute_result"
    }
   ],
   "source": [
    "df = df[[\"Work Exp\", \"Annual Salary\", \"Current Location\", \"Designation\", \"U.G. Course\", \"P. G. Course\", \"Post P. G. Course\"]]\n",
    "df.head()"
   ]
  },
  {
   "cell_type": "code",
   "execution_count": 103,
   "id": "a4fc7355",
   "metadata": {},
   "outputs": [
    {
     "name": "stdout",
     "output_type": "stream",
     "text": [
      "<class 'pandas.core.frame.DataFrame'>\n",
      "RangeIndex: 399 entries, 0 to 398\n",
      "Data columns (total 7 columns):\n",
      " #   Column             Non-Null Count  Dtype  \n",
      "---  ------             --------------  -----  \n",
      " 0   Work Exp           399 non-null    float64\n",
      " 1   Annual Salary      399 non-null    float64\n",
      " 2   Current Location   399 non-null    object \n",
      " 3   Designation        361 non-null    object \n",
      " 4   U.G. Course        399 non-null    object \n",
      " 5   P. G. Course       399 non-null    object \n",
      " 6   Post P. G. Course  66 non-null     object \n",
      "dtypes: float64(2), object(5)\n",
      "memory usage: 21.9+ KB\n"
     ]
    }
   ],
   "source": [
    "df.info()"
   ]
  },
  {
   "cell_type": "code",
   "execution_count": 104,
   "id": "89de8dca",
   "metadata": {},
   "outputs": [
    {
     "data": {
      "text/plain": [
       "Designation\n",
       "Consultant Dermatologist                               62\n",
       "Consultant                                             18\n",
       "Dermatologist                                          14\n",
       "Assistant Professor                                    11\n",
       "Senior Resident                                         9\n",
       "                                                       ..\n",
       "Integrator Medical Protocols                            1\n",
       "Associate Director - Global Aggregate Safety            1\n",
       "Assistant General Manager, Torrent Research Centre      1\n",
       "Manager                                                 1\n",
       "Senior Dermatologist,trichologist And Cosmetologist     1\n",
       "Name: count, Length: 195, dtype: int64"
      ]
     },
     "execution_count": 104,
     "metadata": {},
     "output_type": "execute_result"
    }
   ],
   "source": [
    "df[\"Designation\"].value_counts()"
   ]
  },
  {
   "cell_type": "code",
   "execution_count": 105,
   "id": "23b13044",
   "metadata": {},
   "outputs": [
    {
     "data": {
      "text/plain": [
       "Current Location\n",
       "Mumbai         58\n",
       "New Delhi      56\n",
       "Bangalore      52\n",
       "Hyderabad      38\n",
       "Gurgaon        18\n",
       "               ..\n",
       "Thrissur        1\n",
       "Salem           1\n",
       "Bhubaneswar     1\n",
       "Kurukshetra     1\n",
       "Behror          1\n",
       "Name: count, Length: 80, dtype: int64"
      ]
     },
     "execution_count": 105,
     "metadata": {},
     "output_type": "execute_result"
    }
   ],
   "source": [
    "df[\"Current Location\"].value_counts()"
   ]
  },
  {
   "cell_type": "code",
   "execution_count": 106,
   "id": "e02a7fdf",
   "metadata": {},
   "outputs": [
    {
     "data": {
      "text/plain": [
       "P. G. Course\n",
       "Medical-ms/md             137\n",
       "Pg Diploma                 82\n",
       "Md                         37\n",
       "Not Pursuing Pg            21\n",
       "Mba/pgdm                   15\n",
       "                         ... \n",
       "Md Physiology               1\n",
       "Md Community Medicine       1\n",
       "M.d Pathology               1\n",
       "M.d.pharmacology            1\n",
       "Md Skin                     1\n",
       "Name: count, Length: 71, dtype: int64"
      ]
     },
     "execution_count": 106,
     "metadata": {},
     "output_type": "execute_result"
    }
   ],
   "source": [
    "df[\"P. G. Course\"].value_counts()"
   ]
  },
  {
   "cell_type": "code",
   "execution_count": 107,
   "id": "93d13131",
   "metadata": {},
   "outputs": [
    {
     "data": {
      "text/plain": [
       "0      False\n",
       "1       True\n",
       "2       True\n",
       "3      False\n",
       "4       True\n",
       "       ...  \n",
       "394     True\n",
       "395     True\n",
       "396     True\n",
       "397     True\n",
       "398     True\n",
       "Name: Post P. G. Course, Length: 399, dtype: bool"
      ]
     },
     "execution_count": 107,
     "metadata": {},
     "output_type": "execute_result"
    }
   ],
   "source": [
    "df[\"Post P. G. Course\"].isna()"
   ]
  },
  {
   "cell_type": "code",
   "execution_count": 136,
   "id": "3c0273b4",
   "metadata": {},
   "outputs": [],
   "source": [
    "def shorten_designation(categories, cutoff):\n",
    "    categorical_map = {}\n",
    "    for i in range(len(categories)):\n",
    "        if categories.values[i] >= cutoff:\n",
    "            categorical_map[categories.index[i]] = categories.index[i]\n",
    "        else:\n",
    "            categorical_map[categories.index[i]] = 'Other'\n",
    "    return categorical_map\n",
    "\n",
    "def shorten_location(categories, cutoff):\n",
    "    location_map = {}\n",
    "    for i in range(len(categories)):\n",
    "        if categories.values[i] >= cutoff:\n",
    "            location_map[categories.index[i]] = categories.index[i]\n",
    "        else:\n",
    "            location_map[categories.index[i]] = 'Other'\n",
    "    return location_map\n",
    "\n",
    "def clean_PG(x):\n",
    "    if 'Md' in x or \"md\" in x or 'm.d' in x or 'M.d.' in x or \"MD\" in x:\n",
    "        return \"MD\"\n",
    "    if 'Diploma' in x or 'diploma' in x:\n",
    "        return \"Diploma\"\n",
    "    if 'pgdm' in x or \"PGDM\" in x:\n",
    "        return \"PGDM\"\n",
    "    return \"other\"\n",
    "\n",
    "def clean_PostPG(x):\n",
    "    if pd.isna(x):\n",
    "        return \"No Post PG\"\n",
    "    return \"Yes Post PG\""
   ]
  },
  {
   "cell_type": "code",
   "execution_count": 109,
   "id": "1cedd1a9",
   "metadata": {},
   "outputs": [
    {
     "data": {
      "text/plain": [
       "Designation\n",
       "Other                       256\n",
       "Consultant Dermatologist     62\n",
       "Consultant                   18\n",
       "Dermatologist                14\n",
       "Assistant Professor          11\n",
       "Name: count, dtype: int64"
      ]
     },
     "execution_count": 109,
     "metadata": {},
     "output_type": "execute_result"
    }
   ],
   "source": [
    "designation_map = shorten_designation(df.Designation.value_counts(), 10)\n",
    "df['Designation'] = df['Designation'].map(designation_map)\n",
    "df.Designation.value_counts()"
   ]
  },
  {
   "cell_type": "code",
   "execution_count": 110,
   "id": "d4a30add",
   "metadata": {},
   "outputs": [
    {
     "data": {
      "text/plain": [
       "Current Location\n",
       "Other        145\n",
       "Mumbai        58\n",
       "New Delhi     56\n",
       "Bangalore     52\n",
       "Hyderabad     38\n",
       "Gurgaon       18\n",
       "Kolkata       17\n",
       "Chennai       15\n",
       "Name: count, dtype: int64"
      ]
     },
     "execution_count": 110,
     "metadata": {},
     "output_type": "execute_result"
    }
   ],
   "source": [
    "location_map = shorten_location(df['Current Location'].value_counts(), 15)\n",
    "df['Current Location'] = df['Current Location'].map(location_map)\n",
    "df['Current Location'].value_counts()"
   ]
  },
  {
   "cell_type": "code",
   "execution_count": 111,
   "id": "33e1dae8",
   "metadata": {},
   "outputs": [
    {
     "data": {
      "text/plain": [
       "P. G. Course\n",
       "MD         213\n",
       "Diploma     86\n",
       "other       85\n",
       "PGDM        15\n",
       "Name: count, dtype: int64"
      ]
     },
     "execution_count": 111,
     "metadata": {},
     "output_type": "execute_result"
    }
   ],
   "source": [
    "df['P. G. Course'] = df['P. G. Course'].apply(clean_PG)"
   ]
  },
  {
   "cell_type": "code",
   "execution_count": 112,
   "id": "b3290352",
   "metadata": {},
   "outputs": [
    {
     "data": {
      "text/plain": [
       "P. G. Course\n",
       "MD         213\n",
       "Diploma     86\n",
       "other       85\n",
       "PGDM        15\n",
       "Name: count, dtype: int64"
      ]
     },
     "execution_count": 112,
     "metadata": {},
     "output_type": "execute_result"
    }
   ],
   "source": [
    "df['P. G. Course'].value_counts()"
   ]
  },
  {
   "cell_type": "code",
   "execution_count": 137,
   "id": "d91e3320",
   "metadata": {},
   "outputs": [],
   "source": [
    "df['Post P. G. Course'] = df['Post P. G. Course'].apply(clean_PostPG)"
   ]
  },
  {
   "cell_type": "code",
   "execution_count": 138,
   "id": "f36506c1",
   "metadata": {},
   "outputs": [
    {
     "data": {
      "text/plain": [
       "Post P. G. Course\n",
       "No Post PG     333\n",
       "Yes Post PG     66\n",
       "Name: count, dtype: int64"
      ]
     },
     "execution_count": 138,
     "metadata": {},
     "output_type": "execute_result"
    }
   ],
   "source": [
    "df['Post P. G. Course'].value_counts()"
   ]
  },
  {
   "cell_type": "code",
   "execution_count": null,
   "id": "53d489eb",
   "metadata": {},
   "outputs": [],
   "source": []
  }
 ],
 "metadata": {
  "kernelspec": {
   "display_name": "Python 3 (ipykernel)",
   "language": "python",
   "name": "python3"
  },
  "language_info": {
   "codemirror_mode": {
    "name": "ipython",
    "version": 3
   },
   "file_extension": ".py",
   "mimetype": "text/x-python",
   "name": "python",
   "nbconvert_exporter": "python",
   "pygments_lexer": "ipython3",
   "version": "3.11.0"
  }
 },
 "nbformat": 4,
 "nbformat_minor": 5
}
