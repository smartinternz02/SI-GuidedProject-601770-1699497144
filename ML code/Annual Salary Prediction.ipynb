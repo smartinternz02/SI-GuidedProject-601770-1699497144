{
 "cells": [
  {
   "cell_type": "markdown",
   "id": "ac5b7831",
   "metadata": {},
   "source": [
    "# Installing Packages"
   ]
  },
  {
   "cell_type": "code",
   "execution_count": 3,
   "id": "cde54985",
   "metadata": {},
   "outputs": [
    {
     "name": "stdout",
     "output_type": "stream",
     "text": [
      "Requirement already satisfied: seaborn in c:\\python311\\lib\\site-packages (0.13.0)\n",
      "Requirement already satisfied: numpy!=1.24.0,>=1.20 in c:\\python311\\lib\\site-packages (from seaborn) (1.25.2)\n",
      "Requirement already satisfied: pandas>=1.2 in c:\\python311\\lib\\site-packages (from seaborn) (2.0.3)\n",
      "Requirement already satisfied: matplotlib!=3.6.1,>=3.3 in c:\\python311\\lib\\site-packages (from seaborn) (3.7.2)\n",
      "Requirement already satisfied: contourpy>=1.0.1 in c:\\python311\\lib\\site-packages (from matplotlib!=3.6.1,>=3.3->seaborn) (1.1.0)\n",
      "Requirement already satisfied: cycler>=0.10 in c:\\python311\\lib\\site-packages (from matplotlib!=3.6.1,>=3.3->seaborn) (0.11.0)\n",
      "Requirement already satisfied: fonttools>=4.22.0 in c:\\python311\\lib\\site-packages (from matplotlib!=3.6.1,>=3.3->seaborn) (4.42.0)\n",
      "Requirement already satisfied: kiwisolver>=1.0.1 in c:\\python311\\lib\\site-packages (from matplotlib!=3.6.1,>=3.3->seaborn) (1.4.4)\n",
      "Requirement already satisfied: packaging>=20.0 in c:\\python311\\lib\\site-packages (from matplotlib!=3.6.1,>=3.3->seaborn) (23.1)\n",
      "Requirement already satisfied: pillow>=6.2.0 in c:\\python311\\lib\\site-packages (from matplotlib!=3.6.1,>=3.3->seaborn) (10.0.0)\n",
      "Requirement already satisfied: pyparsing<3.1,>=2.3.1 in c:\\python311\\lib\\site-packages (from matplotlib!=3.6.1,>=3.3->seaborn) (3.0.9)\n",
      "Requirement already satisfied: python-dateutil>=2.7 in c:\\python311\\lib\\site-packages (from matplotlib!=3.6.1,>=3.3->seaborn) (2.8.2)\n",
      "Requirement already satisfied: pytz>=2020.1 in c:\\python311\\lib\\site-packages (from pandas>=1.2->seaborn) (2023.3)\n",
      "Requirement already satisfied: tzdata>=2022.1 in c:\\python311\\lib\\site-packages (from pandas>=1.2->seaborn) (2023.3)\n",
      "Requirement already satisfied: six>=1.5 in c:\\python311\\lib\\site-packages (from python-dateutil>=2.7->matplotlib!=3.6.1,>=3.3->seaborn) (1.16.0)\n"
     ]
    },
    {
     "name": "stderr",
     "output_type": "stream",
     "text": [
      "\n",
      "[notice] A new release of pip is available: 23.1.2 -> 23.3.1\n",
      "[notice] To update, run: C:\\Python311\\python.exe -m pip install --upgrade pip\n"
     ]
    },
    {
     "name": "stdout",
     "output_type": "stream",
     "text": [
      "Requirement already satisfied: pandas in c:\\python311\\lib\\site-packages (2.0.3)\n",
      "Requirement already satisfied: python-dateutil>=2.8.2 in c:\\python311\\lib\\site-packages (from pandas) (2.8.2)\n",
      "Requirement already satisfied: pytz>=2020.1 in c:\\python311\\lib\\site-packages (from pandas) (2023.3)\n",
      "Requirement already satisfied: tzdata>=2022.1 in c:\\python311\\lib\\site-packages (from pandas) (2023.3)\n",
      "Requirement already satisfied: numpy>=1.21.0 in c:\\python311\\lib\\site-packages (from pandas) (1.25.2)\n",
      "Requirement already satisfied: six>=1.5 in c:\\python311\\lib\\site-packages (from python-dateutil>=2.8.2->pandas) (1.16.0)\n"
     ]
    },
    {
     "name": "stderr",
     "output_type": "stream",
     "text": [
      "\n",
      "[notice] A new release of pip is available: 23.1.2 -> 23.3.1\n",
      "[notice] To update, run: C:\\Python311\\python.exe -m pip install --upgrade pip\n"
     ]
    }
   ],
   "source": [
    "import sys\n",
    "!{sys.executable} -m pip install seaborn\n",
    "!{sys.executable} -m pip install pandas"
   ]
  },
  {
   "cell_type": "markdown",
   "id": "80dc9245",
   "metadata": {},
   "source": [
    "# Importing necessary packages"
   ]
  },
  {
   "cell_type": "code",
   "execution_count": 2,
   "id": "4802f193",
   "metadata": {},
   "outputs": [],
   "source": [
    "import pandas as pd\n",
    "import numpy as np\n",
    "import matplotlib.pyplot as plt\n",
    "import seaborn as sns\n",
    "from sklearn.model_selection import train_test_split\n",
    "from sklearn.linear_model import LogisticRegression\n",
    "from sklearn.metrics import accuracy_score,confusion_matrix,classification_report\n",
    "from sklearn.ensemble import RandomForestClassifier\n",
    "from sklearn.tree import DecisionTreeClassifier\n",
    "from sklearn.neighbors import KNeighborsClassifier"
   ]
  },
  {
   "cell_type": "markdown",
   "id": "1cc63c5b",
   "metadata": {},
   "source": [
    "# Reading the Dataset"
   ]
  },
  {
   "cell_type": "code",
   "execution_count": 3,
   "id": "4447f9de",
   "metadata": {},
   "outputs": [],
   "source": [
    "df = pd.read_csv(\"../dataset/Doctors_job_dataset.csv\")"
   ]
  },
  {
   "cell_type": "code",
   "execution_count": 4,
   "id": "615280b0",
   "metadata": {},
   "outputs": [
    {
     "data": {
      "text/html": [
       "<div>\n",
       "<style scoped>\n",
       "    .dataframe tbody tr th:only-of-type {\n",
       "        vertical-align: middle;\n",
       "    }\n",
       "\n",
       "    .dataframe tbody tr th {\n",
       "        vertical-align: top;\n",
       "    }\n",
       "\n",
       "    .dataframe thead th {\n",
       "        text-align: right;\n",
       "    }\n",
       "</style>\n",
       "<table border=\"1\" class=\"dataframe\">\n",
       "  <thead>\n",
       "    <tr style=\"text-align: right;\">\n",
       "      <th></th>\n",
       "      <th>S.No</th>\n",
       "      <th>Resume Title</th>\n",
       "      <th>Work Exp</th>\n",
       "      <th>Annual Salary</th>\n",
       "      <th>Current Location</th>\n",
       "      <th>Preferred Location</th>\n",
       "      <th>Designation</th>\n",
       "      <th>U.G. Course</th>\n",
       "      <th>P. G. Course</th>\n",
       "      <th>Post P. G. Course</th>\n",
       "      <th>Age/Date of Birth</th>\n",
       "      <th>Resume ID</th>\n",
       "      <th>Last Active Date</th>\n",
       "    </tr>\n",
       "  </thead>\n",
       "  <tbody>\n",
       "    <tr>\n",
       "      <th>0</th>\n",
       "      <td>1</td>\n",
       "      <td>Experienced Dermatologist with 5 years plus ex...</td>\n",
       "      <td>5.8</td>\n",
       "      <td>10.0</td>\n",
       "      <td>Kolkata</td>\n",
       "      <td>Kolkata</td>\n",
       "      <td>NaN</td>\n",
       "      <td>Mbbs</td>\n",
       "      <td>Md Dermatology</td>\n",
       "      <td>Dr</td>\n",
       "      <td>40.0</td>\n",
       "      <td>0c264007658bd1c224</td>\n",
       "      <td>2016</td>\n",
       "    </tr>\n",
       "    <tr>\n",
       "      <th>1</th>\n",
       "      <td>2</td>\n",
       "      <td>M.B.B.S.,D.D.V.(Skin) with 5 yrs experience.</td>\n",
       "      <td>5.0</td>\n",
       "      <td>10.5</td>\n",
       "      <td>Dubai</td>\n",
       "      <td>Dubai</td>\n",
       "      <td>Consultant Dermatologist And Cosmetologist</td>\n",
       "      <td>Mbbs</td>\n",
       "      <td>Pg Diploma</td>\n",
       "      <td>NaN</td>\n",
       "      <td>40.0</td>\n",
       "      <td>3697d8852652123c53</td>\n",
       "      <td>2014</td>\n",
       "    </tr>\n",
       "    <tr>\n",
       "      <th>2</th>\n",
       "      <td>3</td>\n",
       "      <td>MBBS, D.V.D &amp; DNB (Dermatology) with 7 yrs exp...</td>\n",
       "      <td>8.2</td>\n",
       "      <td>30.0</td>\n",
       "      <td>Dubai</td>\n",
       "      <td>All India</td>\n",
       "      <td>Dermatologist</td>\n",
       "      <td>Mbbs</td>\n",
       "      <td>Dnb</td>\n",
       "      <td>NaN</td>\n",
       "      <td>48.0</td>\n",
       "      <td>4b98d6db4fc0b5b012</td>\n",
       "      <td>2009</td>\n",
       "    </tr>\n",
       "    <tr>\n",
       "      <th>3</th>\n",
       "      <td>4</td>\n",
       "      <td>MBBS; DNB, FCPS,DDV with 6yrs of Exp.</td>\n",
       "      <td>7.0</td>\n",
       "      <td>9.6</td>\n",
       "      <td>Mumbai</td>\n",
       "      <td>Mumbai</td>\n",
       "      <td>NaN</td>\n",
       "      <td>Mbbs</td>\n",
       "      <td>Dnb Dermatology</td>\n",
       "      <td>D.d.v</td>\n",
       "      <td>41.0</td>\n",
       "      <td>59063066742215cd70</td>\n",
       "      <td>2013</td>\n",
       "    </tr>\n",
       "    <tr>\n",
       "      <th>4</th>\n",
       "      <td>5</td>\n",
       "      <td>Medical and cosmetic dermatology and dermatosu...</td>\n",
       "      <td>10.0</td>\n",
       "      <td>15.0</td>\n",
       "      <td>New Delhi</td>\n",
       "      <td>Delhi / Ncr</td>\n",
       "      <td>Consultant Dermatologist And Cosmetologist</td>\n",
       "      <td>Mbbs</td>\n",
       "      <td>Pg Diploma</td>\n",
       "      <td>NaN</td>\n",
       "      <td>40.0</td>\n",
       "      <td>1aea93342d8c652a71</td>\n",
       "      <td>2018</td>\n",
       "    </tr>\n",
       "  </tbody>\n",
       "</table>\n",
       "</div>"
      ],
      "text/plain": [
       "   S.No                                       Resume Title  Work Exp  \\\n",
       "0     1  Experienced Dermatologist with 5 years plus ex...       5.8   \n",
       "1     2       M.B.B.S.,D.D.V.(Skin) with 5 yrs experience.       5.0   \n",
       "2     3  MBBS, D.V.D & DNB (Dermatology) with 7 yrs exp...       8.2   \n",
       "3     4              MBBS; DNB, FCPS,DDV with 6yrs of Exp.       7.0   \n",
       "4     5  Medical and cosmetic dermatology and dermatosu...      10.0   \n",
       "\n",
       "   Annual Salary Current Location Preferred Location  \\\n",
       "0           10.0          Kolkata            Kolkata   \n",
       "1           10.5            Dubai              Dubai   \n",
       "2           30.0            Dubai          All India   \n",
       "3            9.6           Mumbai             Mumbai   \n",
       "4           15.0        New Delhi        Delhi / Ncr   \n",
       "\n",
       "                                  Designation U.G. Course     P. G. Course  \\\n",
       "0                                         NaN        Mbbs   Md Dermatology   \n",
       "1  Consultant Dermatologist And Cosmetologist        Mbbs       Pg Diploma   \n",
       "2                               Dermatologist        Mbbs              Dnb   \n",
       "3                                         NaN        Mbbs  Dnb Dermatology   \n",
       "4  Consultant Dermatologist And Cosmetologist        Mbbs       Pg Diploma   \n",
       "\n",
       "  Post P. G. Course  Age/Date of Birth           Resume ID  Last Active Date  \n",
       "0                Dr               40.0  0c264007658bd1c224              2016  \n",
       "1               NaN               40.0  3697d8852652123c53              2014  \n",
       "2               NaN               48.0  4b98d6db4fc0b5b012              2009  \n",
       "3             D.d.v               41.0  59063066742215cd70              2013  \n",
       "4               NaN               40.0  1aea93342d8c652a71              2018  "
      ]
     },
     "execution_count": 4,
     "metadata": {},
     "output_type": "execute_result"
    }
   ],
   "source": [
    "df.head()"
   ]
  },
  {
   "cell_type": "code",
   "execution_count": 5,
   "id": "3d1f4045",
   "metadata": {},
   "outputs": [
    {
     "data": {
      "text/html": [
       "<div>\n",
       "<style scoped>\n",
       "    .dataframe tbody tr th:only-of-type {\n",
       "        vertical-align: middle;\n",
       "    }\n",
       "\n",
       "    .dataframe tbody tr th {\n",
       "        vertical-align: top;\n",
       "    }\n",
       "\n",
       "    .dataframe thead th {\n",
       "        text-align: right;\n",
       "    }\n",
       "</style>\n",
       "<table border=\"1\" class=\"dataframe\">\n",
       "  <thead>\n",
       "    <tr style=\"text-align: right;\">\n",
       "      <th></th>\n",
       "      <th>Work Exp</th>\n",
       "      <th>Annual Salary</th>\n",
       "      <th>Current Location</th>\n",
       "      <th>Designation</th>\n",
       "      <th>P. G. Course</th>\n",
       "      <th>Post P. G. Course</th>\n",
       "    </tr>\n",
       "  </thead>\n",
       "  <tbody>\n",
       "    <tr>\n",
       "      <th>0</th>\n",
       "      <td>5.8</td>\n",
       "      <td>10.0</td>\n",
       "      <td>Kolkata</td>\n",
       "      <td>NaN</td>\n",
       "      <td>Md Dermatology</td>\n",
       "      <td>Dr</td>\n",
       "    </tr>\n",
       "    <tr>\n",
       "      <th>1</th>\n",
       "      <td>5.0</td>\n",
       "      <td>10.5</td>\n",
       "      <td>Dubai</td>\n",
       "      <td>Consultant Dermatologist And Cosmetologist</td>\n",
       "      <td>Pg Diploma</td>\n",
       "      <td>NaN</td>\n",
       "    </tr>\n",
       "    <tr>\n",
       "      <th>2</th>\n",
       "      <td>8.2</td>\n",
       "      <td>30.0</td>\n",
       "      <td>Dubai</td>\n",
       "      <td>Dermatologist</td>\n",
       "      <td>Dnb</td>\n",
       "      <td>NaN</td>\n",
       "    </tr>\n",
       "    <tr>\n",
       "      <th>3</th>\n",
       "      <td>7.0</td>\n",
       "      <td>9.6</td>\n",
       "      <td>Mumbai</td>\n",
       "      <td>NaN</td>\n",
       "      <td>Dnb Dermatology</td>\n",
       "      <td>D.d.v</td>\n",
       "    </tr>\n",
       "    <tr>\n",
       "      <th>4</th>\n",
       "      <td>10.0</td>\n",
       "      <td>15.0</td>\n",
       "      <td>New Delhi</td>\n",
       "      <td>Consultant Dermatologist And Cosmetologist</td>\n",
       "      <td>Pg Diploma</td>\n",
       "      <td>NaN</td>\n",
       "    </tr>\n",
       "  </tbody>\n",
       "</table>\n",
       "</div>"
      ],
      "text/plain": [
       "   Work Exp  Annual Salary Current Location  \\\n",
       "0       5.8           10.0          Kolkata   \n",
       "1       5.0           10.5            Dubai   \n",
       "2       8.2           30.0            Dubai   \n",
       "3       7.0            9.6           Mumbai   \n",
       "4      10.0           15.0        New Delhi   \n",
       "\n",
       "                                  Designation     P. G. Course  \\\n",
       "0                                         NaN   Md Dermatology   \n",
       "1  Consultant Dermatologist And Cosmetologist       Pg Diploma   \n",
       "2                               Dermatologist              Dnb   \n",
       "3                                         NaN  Dnb Dermatology   \n",
       "4  Consultant Dermatologist And Cosmetologist       Pg Diploma   \n",
       "\n",
       "  Post P. G. Course  \n",
       "0                Dr  \n",
       "1               NaN  \n",
       "2               NaN  \n",
       "3             D.d.v  \n",
       "4               NaN  "
      ]
     },
     "execution_count": 5,
     "metadata": {},
     "output_type": "execute_result"
    }
   ],
   "source": [
    "df = df[[\"Work Exp\", \"Annual Salary\", \"Current Location\", \"Designation\",\"P. G. Course\", \"Post P. G. Course\"]]\n",
    "df.head()"
   ]
  },
  {
   "cell_type": "code",
   "execution_count": 6,
   "id": "a4fc7355",
   "metadata": {},
   "outputs": [
    {
     "name": "stdout",
     "output_type": "stream",
     "text": [
      "<class 'pandas.core.frame.DataFrame'>\n",
      "RangeIndex: 399 entries, 0 to 398\n",
      "Data columns (total 6 columns):\n",
      " #   Column             Non-Null Count  Dtype  \n",
      "---  ------             --------------  -----  \n",
      " 0   Work Exp           399 non-null    float64\n",
      " 1   Annual Salary      399 non-null    float64\n",
      " 2   Current Location   399 non-null    object \n",
      " 3   Designation        361 non-null    object \n",
      " 4   P. G. Course       399 non-null    object \n",
      " 5   Post P. G. Course  66 non-null     object \n",
      "dtypes: float64(2), object(4)\n",
      "memory usage: 18.8+ KB\n"
     ]
    }
   ],
   "source": [
    "df.info()"
   ]
  },
  {
   "cell_type": "code",
   "execution_count": 7,
   "id": "89de8dca",
   "metadata": {},
   "outputs": [
    {
     "data": {
      "text/plain": [
       "Designation\n",
       "Consultant Dermatologist                               62\n",
       "Consultant                                             18\n",
       "Dermatologist                                          14\n",
       "Assistant Professor                                    11\n",
       "Senior Resident                                         9\n",
       "                                                       ..\n",
       "Integrator Medical Protocols                            1\n",
       "Associate Director - Global Aggregate Safety            1\n",
       "Assistant General Manager, Torrent Research Centre      1\n",
       "Manager                                                 1\n",
       "Senior Dermatologist,trichologist And Cosmetologist     1\n",
       "Name: count, Length: 195, dtype: int64"
      ]
     },
     "execution_count": 7,
     "metadata": {},
     "output_type": "execute_result"
    }
   ],
   "source": [
    "df[\"Designation\"].value_counts()"
   ]
  },
  {
   "cell_type": "code",
   "execution_count": 8,
   "id": "23b13044",
   "metadata": {},
   "outputs": [
    {
     "data": {
      "text/plain": [
       "Current Location\n",
       "Mumbai         58\n",
       "New Delhi      56\n",
       "Bangalore      52\n",
       "Hyderabad      38\n",
       "Gurgaon        18\n",
       "               ..\n",
       "Thrissur        1\n",
       "Salem           1\n",
       "Bhubaneswar     1\n",
       "Kurukshetra     1\n",
       "Behror          1\n",
       "Name: count, Length: 80, dtype: int64"
      ]
     },
     "execution_count": 8,
     "metadata": {},
     "output_type": "execute_result"
    }
   ],
   "source": [
    "df[\"Current Location\"].value_counts()"
   ]
  },
  {
   "cell_type": "code",
   "execution_count": 9,
   "id": "e02a7fdf",
   "metadata": {},
   "outputs": [
    {
     "data": {
      "text/plain": [
       "P. G. Course\n",
       "Medical-ms/md             137\n",
       "Pg Diploma                 82\n",
       "Md                         37\n",
       "Not Pursuing Pg            21\n",
       "Mba/pgdm                   15\n",
       "                         ... \n",
       "Md Physiology               1\n",
       "Md Community Medicine       1\n",
       "M.d Pathology               1\n",
       "M.d.pharmacology            1\n",
       "Md Skin                     1\n",
       "Name: count, Length: 71, dtype: int64"
      ]
     },
     "execution_count": 9,
     "metadata": {},
     "output_type": "execute_result"
    }
   ],
   "source": [
    "df[\"P. G. Course\"].value_counts()"
   ]
  },
  {
   "cell_type": "code",
   "execution_count": 10,
   "id": "93d13131",
   "metadata": {},
   "outputs": [
    {
     "data": {
      "text/plain": [
       "0      False\n",
       "1       True\n",
       "2       True\n",
       "3      False\n",
       "4       True\n",
       "       ...  \n",
       "394     True\n",
       "395     True\n",
       "396     True\n",
       "397     True\n",
       "398     True\n",
       "Name: Post P. G. Course, Length: 399, dtype: bool"
      ]
     },
     "execution_count": 10,
     "metadata": {},
     "output_type": "execute_result"
    }
   ],
   "source": [
    "df[\"Post P. G. Course\"].isna()"
   ]
  },
  {
   "cell_type": "code",
   "execution_count": 11,
   "id": "3c0273b4",
   "metadata": {},
   "outputs": [],
   "source": [
    "def shorten_designation(categories, cutoff):\n",
    "    categorical_map = {}\n",
    "    for i in range(len(categories)):\n",
    "        if categories.values[i] >= cutoff:\n",
    "            categorical_map[categories.index[i]] = categories.index[i]\n",
    "        else:\n",
    "            categorical_map[categories.index[i]] = 'Other'\n",
    "    return categorical_map\n",
    "\n",
    "def shorten_location(categories, cutoff):\n",
    "    location_map = {}\n",
    "    for i in range(len(categories)):\n",
    "        if categories.values[i] >= cutoff:\n",
    "            location_map[categories.index[i]] = categories.index[i]\n",
    "        else:\n",
    "            location_map[categories.index[i]] = 'Other'\n",
    "    return location_map\n",
    "\n",
    "def clean_PG(x):\n",
    "    if 'Md' in x or \"md\" in x or 'm.d' in x or 'M.d.' in x or \"MD\" in x:\n",
    "        return \"MD\"\n",
    "    if 'Diploma' in x or 'diploma' in x:\n",
    "        return \"Diploma\"\n",
    "    if 'pgdm' in x or \"PGDM\" in x:\n",
    "        return \"PGDM\"\n",
    "    return \"other\"\n",
    "\n",
    "def clean_PostPG(x):\n",
    "    if pd.isna(x):\n",
    "        return \"No Post PG\"\n",
    "    return \"Yes Post PG\""
   ]
  },
  {
   "cell_type": "code",
   "execution_count": 12,
   "id": "1cedd1a9",
   "metadata": {},
   "outputs": [
    {
     "data": {
      "text/plain": [
       "Designation\n",
       "Other                       256\n",
       "Consultant Dermatologist     62\n",
       "Consultant                   18\n",
       "Dermatologist                14\n",
       "Assistant Professor          11\n",
       "Name: count, dtype: int64"
      ]
     },
     "execution_count": 12,
     "metadata": {},
     "output_type": "execute_result"
    }
   ],
   "source": [
    "designation_map = shorten_designation(df.Designation.value_counts(), 10)\n",
    "df['Designation'] = df['Designation'].map(designation_map)\n",
    "df.Designation.value_counts()"
   ]
  },
  {
   "cell_type": "code",
   "execution_count": 13,
   "id": "d4a30add",
   "metadata": {},
   "outputs": [
    {
     "data": {
      "text/plain": [
       "Current Location\n",
       "Other        145\n",
       "Mumbai        58\n",
       "New Delhi     56\n",
       "Bangalore     52\n",
       "Hyderabad     38\n",
       "Gurgaon       18\n",
       "Kolkata       17\n",
       "Chennai       15\n",
       "Name: count, dtype: int64"
      ]
     },
     "execution_count": 13,
     "metadata": {},
     "output_type": "execute_result"
    }
   ],
   "source": [
    "location_map = shorten_location(df['Current Location'].value_counts(), 15)\n",
    "df['Current Location'] = df['Current Location'].map(location_map)\n",
    "df['Current Location'].value_counts()"
   ]
  },
  {
   "cell_type": "code",
   "execution_count": 14,
   "id": "33e1dae8",
   "metadata": {},
   "outputs": [],
   "source": [
    "df['P. G. Course'] = df['P. G. Course'].apply(clean_PG)"
   ]
  },
  {
   "cell_type": "code",
   "execution_count": 15,
   "id": "b3290352",
   "metadata": {},
   "outputs": [
    {
     "data": {
      "text/plain": [
       "P. G. Course\n",
       "MD         213\n",
       "Diploma     86\n",
       "other       85\n",
       "PGDM        15\n",
       "Name: count, dtype: int64"
      ]
     },
     "execution_count": 15,
     "metadata": {},
     "output_type": "execute_result"
    }
   ],
   "source": [
    "df['P. G. Course'].value_counts()"
   ]
  },
  {
   "cell_type": "code",
   "execution_count": 16,
   "id": "d91e3320",
   "metadata": {},
   "outputs": [],
   "source": [
    "df['Post P. G. Course'] = df['Post P. G. Course'].apply(clean_PostPG)"
   ]
  },
  {
   "cell_type": "code",
   "execution_count": 17,
   "id": "f36506c1",
   "metadata": {},
   "outputs": [
    {
     "data": {
      "text/plain": [
       "Post P. G. Course\n",
       "No Post PG     333\n",
       "Yes Post PG     66\n",
       "Name: count, dtype: int64"
      ]
     },
     "execution_count": 17,
     "metadata": {},
     "output_type": "execute_result"
    }
   ],
   "source": [
    "df['Post P. G. Course'].value_counts()"
   ]
  },
  {
   "cell_type": "code",
   "execution_count": 18,
   "id": "53d489eb",
   "metadata": {},
   "outputs": [],
   "source": [
    "from sklearn.preprocessing import LabelEncoder,StandardScaler\n",
    "le_designatiom = LabelEncoder()\n",
    "le_PG = LabelEncoder()\n",
    "le_PostPG = LabelEncoder()"
   ]
  },
  {
   "cell_type": "code",
   "execution_count": 19,
   "id": "9a06d021",
   "metadata": {},
   "outputs": [
    {
     "data": {
      "text/plain": [
       "array([4, 7, 5, 6, 1, 2, 3, 0])"
      ]
     },
     "execution_count": 19,
     "metadata": {},
     "output_type": "execute_result"
    }
   ],
   "source": [
    "le_location = LabelEncoder()\n",
    "df['Current Location'] = le_location.fit_transform(df['Current Location'])\n",
    "df['Current Location'].unique()"
   ]
  },
  {
   "cell_type": "code",
   "execution_count": 20,
   "id": "0af8bc2f",
   "metadata": {},
   "outputs": [
    {
     "data": {
      "text/plain": [
       "array([5, 4, 3, 2, 1, 0])"
      ]
     },
     "execution_count": 20,
     "metadata": {},
     "output_type": "execute_result"
    }
   ],
   "source": [
    "df['Designation'] = le_designatiom.fit_transform(df['Designation'])\n",
    "df['Designation'].unique()"
   ]
  },
  {
   "cell_type": "code",
   "execution_count": 21,
   "id": "9b27ff61",
   "metadata": {},
   "outputs": [
    {
     "data": {
      "text/plain": [
       "array([1, 0, 3, 2])"
      ]
     },
     "execution_count": 21,
     "metadata": {},
     "output_type": "execute_result"
    }
   ],
   "source": [
    "df['P. G. Course'] = le_PG.fit_transform(df['P. G. Course'])\n",
    "df['P. G. Course'].unique()"
   ]
  },
  {
   "cell_type": "code",
   "execution_count": 22,
   "id": "63794bf0",
   "metadata": {},
   "outputs": [
    {
     "data": {
      "text/plain": [
       "array([1, 0])"
      ]
     },
     "execution_count": 22,
     "metadata": {},
     "output_type": "execute_result"
    }
   ],
   "source": [
    "df['Post P. G. Course'] = le_PostPG.fit_transform(df['Post P. G. Course'])\n",
    "df['Post P. G. Course'].unique()"
   ]
  },
  {
   "cell_type": "code",
   "execution_count": 23,
   "id": "40a41ae6",
   "metadata": {},
   "outputs": [],
   "source": [
    "X = df.drop(['Annual Salary'], axis=1)\n",
    "Y = df['Annual Salary']\n"
   ]
  },
  {
   "cell_type": "code",
   "execution_count": 24,
   "id": "a0e63b28",
   "metadata": {},
   "outputs": [
    {
     "data": {
      "text/plain": [
       "0      10.0\n",
       "1      10.5\n",
       "2      30.0\n",
       "3       9.6\n",
       "4      15.0\n",
       "       ... \n",
       "394    27.0\n",
       "395    18.0\n",
       "396     6.0\n",
       "397    30.0\n",
       "398    18.5\n",
       "Name: Annual Salary, Length: 399, dtype: float64"
      ]
     },
     "execution_count": 24,
     "metadata": {},
     "output_type": "execute_result"
    }
   ],
   "source": [
    "from sklearn.model_selection import train_test_split\n",
    "standard=StandardScaler()\n",
    "X=standard.fit_transform(X)\n",
    "# Split the data into train and test data \n",
    "X_train,X_test,y_train,y_test=train_test_split(X,Y,test_size=0.20,random_state=220)\n",
    "Y"
   ]
  },
  {
   "cell_type": "code",
   "execution_count": 25,
   "id": "d3dba99b",
   "metadata": {},
   "outputs": [
    {
     "data": {
      "text/html": [
       "<style>#sk-container-id-1 {color: black;}#sk-container-id-1 pre{padding: 0;}#sk-container-id-1 div.sk-toggleable {background-color: white;}#sk-container-id-1 label.sk-toggleable__label {cursor: pointer;display: block;width: 100%;margin-bottom: 0;padding: 0.3em;box-sizing: border-box;text-align: center;}#sk-container-id-1 label.sk-toggleable__label-arrow:before {content: \"▸\";float: left;margin-right: 0.25em;color: #696969;}#sk-container-id-1 label.sk-toggleable__label-arrow:hover:before {color: black;}#sk-container-id-1 div.sk-estimator:hover label.sk-toggleable__label-arrow:before {color: black;}#sk-container-id-1 div.sk-toggleable__content {max-height: 0;max-width: 0;overflow: hidden;text-align: left;background-color: #f0f8ff;}#sk-container-id-1 div.sk-toggleable__content pre {margin: 0.2em;color: black;border-radius: 0.25em;background-color: #f0f8ff;}#sk-container-id-1 input.sk-toggleable__control:checked~div.sk-toggleable__content {max-height: 200px;max-width: 100%;overflow: auto;}#sk-container-id-1 input.sk-toggleable__control:checked~label.sk-toggleable__label-arrow:before {content: \"▾\";}#sk-container-id-1 div.sk-estimator input.sk-toggleable__control:checked~label.sk-toggleable__label {background-color: #d4ebff;}#sk-container-id-1 div.sk-label input.sk-toggleable__control:checked~label.sk-toggleable__label {background-color: #d4ebff;}#sk-container-id-1 input.sk-hidden--visually {border: 0;clip: rect(1px 1px 1px 1px);clip: rect(1px, 1px, 1px, 1px);height: 1px;margin: -1px;overflow: hidden;padding: 0;position: absolute;width: 1px;}#sk-container-id-1 div.sk-estimator {font-family: monospace;background-color: #f0f8ff;border: 1px dotted black;border-radius: 0.25em;box-sizing: border-box;margin-bottom: 0.5em;}#sk-container-id-1 div.sk-estimator:hover {background-color: #d4ebff;}#sk-container-id-1 div.sk-parallel-item::after {content: \"\";width: 100%;border-bottom: 1px solid gray;flex-grow: 1;}#sk-container-id-1 div.sk-label:hover label.sk-toggleable__label {background-color: #d4ebff;}#sk-container-id-1 div.sk-serial::before {content: \"\";position: absolute;border-left: 1px solid gray;box-sizing: border-box;top: 0;bottom: 0;left: 50%;z-index: 0;}#sk-container-id-1 div.sk-serial {display: flex;flex-direction: column;align-items: center;background-color: white;padding-right: 0.2em;padding-left: 0.2em;position: relative;}#sk-container-id-1 div.sk-item {position: relative;z-index: 1;}#sk-container-id-1 div.sk-parallel {display: flex;align-items: stretch;justify-content: center;background-color: white;position: relative;}#sk-container-id-1 div.sk-item::before, #sk-container-id-1 div.sk-parallel-item::before {content: \"\";position: absolute;border-left: 1px solid gray;box-sizing: border-box;top: 0;bottom: 0;left: 50%;z-index: -1;}#sk-container-id-1 div.sk-parallel-item {display: flex;flex-direction: column;z-index: 1;position: relative;background-color: white;}#sk-container-id-1 div.sk-parallel-item:first-child::after {align-self: flex-end;width: 50%;}#sk-container-id-1 div.sk-parallel-item:last-child::after {align-self: flex-start;width: 50%;}#sk-container-id-1 div.sk-parallel-item:only-child::after {width: 0;}#sk-container-id-1 div.sk-dashed-wrapped {border: 1px dashed gray;margin: 0 0.4em 0.5em 0.4em;box-sizing: border-box;padding-bottom: 0.4em;background-color: white;}#sk-container-id-1 div.sk-label label {font-family: monospace;font-weight: bold;display: inline-block;line-height: 1.2em;}#sk-container-id-1 div.sk-label-container {text-align: center;}#sk-container-id-1 div.sk-container {/* jupyter's `normalize.less` sets `[hidden] { display: none; }` but bootstrap.min.css set `[hidden] { display: none !important; }` so we also need the `!important` here to be able to override the default hidden behavior on the sphinx rendered scikit-learn.org. See: https://github.com/scikit-learn/scikit-learn/issues/21755 */display: inline-block !important;position: relative;}#sk-container-id-1 div.sk-text-repr-fallback {display: none;}</style><div id=\"sk-container-id-1\" class=\"sk-top-container\"><div class=\"sk-text-repr-fallback\"><pre>LinearRegression()</pre><b>In a Jupyter environment, please rerun this cell to show the HTML representation or trust the notebook. <br />On GitHub, the HTML representation is unable to render, please try loading this page with nbviewer.org.</b></div><div class=\"sk-container\" hidden><div class=\"sk-item\"><div class=\"sk-estimator sk-toggleable\"><input class=\"sk-toggleable__control sk-hidden--visually\" id=\"sk-estimator-id-1\" type=\"checkbox\" checked><label for=\"sk-estimator-id-1\" class=\"sk-toggleable__label sk-toggleable__label-arrow\">LinearRegression</label><div class=\"sk-toggleable__content\"><pre>LinearRegression()</pre></div></div></div></div></div>"
      ],
      "text/plain": [
       "LinearRegression()"
      ]
     },
     "execution_count": 25,
     "metadata": {},
     "output_type": "execute_result"
    }
   ],
   "source": [
    "from sklearn.linear_model import LinearRegression\n",
    "linear_reg = LinearRegression()\n",
    "linear_reg.fit(X_train, y_train)"
   ]
  },
  {
   "cell_type": "code",
   "execution_count": 26,
   "id": "cfe42ebf",
   "metadata": {},
   "outputs": [],
   "source": [
    "y_pred = linear_reg.predict(X_test)"
   ]
  },
  {
   "cell_type": "code",
   "execution_count": 27,
   "id": "f3098416",
   "metadata": {},
   "outputs": [
    {
     "data": {
      "text/plain": [
       "array([20.46589527, 15.41474732, 24.38194309, 15.9407164 , 13.92739344,\n",
       "       12.41388525, 31.02428411, 22.08705333, 36.7558827 , 34.26104147,\n",
       "       10.1684546 , 14.44169389,  9.71504253, 15.10769645, 10.00342684,\n",
       "       14.41868926,  6.93236762, 15.59651282, 13.91572481, 18.73939801,\n",
       "        8.94691143, 13.37096958, 13.68580836, 13.3148503 , 21.03710482,\n",
       "       10.41855863, 14.2067314 , 12.72720302, 10.32214634, 11.71791772,\n",
       "       19.22125403,  6.20868717, 13.61212377,  6.38761238, 14.83061055,\n",
       "       15.73853594, 11.61334732, 25.4318916 , 21.04406516, 10.95690415,\n",
       "       19.98433925, 12.6979315 , 12.95656884, 13.62190117, 16.11075244,\n",
       "       12.8657763 , 17.25360273, 19.1333607 , 13.29184566, 13.77370169,\n",
       "       25.56695437, 10.21256765, 13.55200403, 16.01562184, 12.66329583,\n",
       "        7.07927944, 15.74480283, 22.99497872, 14.52982656, 21.16935054,\n",
       "       25.76943484, 16.92354723, 15.16533675, 33.01557283,  8.45204618,\n",
       "       13.91572481, 14.8236502 , 13.6433472 , 19.37650439,  7.20963393,\n",
       "       15.42170767, 13.33503788, 21.53685876, 22.08705333, 13.99261989,\n",
       "       13.13537446, 14.36968751, 13.29184566,  8.80167781, 10.91135223])"
      ]
     },
     "execution_count": 27,
     "metadata": {},
     "output_type": "execute_result"
    }
   ],
   "source": [
    "y_pred"
   ]
  },
  {
   "cell_type": "code",
   "execution_count": 28,
   "id": "df7c355a",
   "metadata": {},
   "outputs": [
    {
     "data": {
      "text/plain": [
       "272    16.8\n",
       "62     18.0\n",
       "86     44.8\n",
       "374     0.0\n",
       "189     7.2\n",
       "       ... \n",
       "285    12.0\n",
       "132    30.0\n",
       "335     1.0\n",
       "150     0.0\n",
       "140    13.0\n",
       "Name: Annual Salary, Length: 80, dtype: float64"
      ]
     },
     "execution_count": 28,
     "metadata": {},
     "output_type": "execute_result"
    }
   ],
   "source": [
    "y_test"
   ]
  },
  {
   "cell_type": "code",
   "execution_count": 29,
   "id": "263ba81d",
   "metadata": {},
   "outputs": [],
   "source": [
    "from sklearn.metrics import mean_squared_error, mean_absolute_error\n",
    "import numpy as np\n",
    "error = np.sqrt(mean_squared_error(y_pred, y_test))\n"
   ]
  },
  {
   "cell_type": "code",
   "execution_count": 30,
   "id": "8e989e4f",
   "metadata": {},
   "outputs": [
    {
     "data": {
      "text/plain": [
       "14.660345271835721"
      ]
     },
     "execution_count": 30,
     "metadata": {},
     "output_type": "execute_result"
    }
   ],
   "source": [
    "error"
   ]
  },
  {
   "cell_type": "code",
   "execution_count": 31,
   "id": "7d779335",
   "metadata": {},
   "outputs": [
    {
     "data": {
      "text/html": [
       "<style>#sk-container-id-2 {color: black;}#sk-container-id-2 pre{padding: 0;}#sk-container-id-2 div.sk-toggleable {background-color: white;}#sk-container-id-2 label.sk-toggleable__label {cursor: pointer;display: block;width: 100%;margin-bottom: 0;padding: 0.3em;box-sizing: border-box;text-align: center;}#sk-container-id-2 label.sk-toggleable__label-arrow:before {content: \"▸\";float: left;margin-right: 0.25em;color: #696969;}#sk-container-id-2 label.sk-toggleable__label-arrow:hover:before {color: black;}#sk-container-id-2 div.sk-estimator:hover label.sk-toggleable__label-arrow:before {color: black;}#sk-container-id-2 div.sk-toggleable__content {max-height: 0;max-width: 0;overflow: hidden;text-align: left;background-color: #f0f8ff;}#sk-container-id-2 div.sk-toggleable__content pre {margin: 0.2em;color: black;border-radius: 0.25em;background-color: #f0f8ff;}#sk-container-id-2 input.sk-toggleable__control:checked~div.sk-toggleable__content {max-height: 200px;max-width: 100%;overflow: auto;}#sk-container-id-2 input.sk-toggleable__control:checked~label.sk-toggleable__label-arrow:before {content: \"▾\";}#sk-container-id-2 div.sk-estimator input.sk-toggleable__control:checked~label.sk-toggleable__label {background-color: #d4ebff;}#sk-container-id-2 div.sk-label input.sk-toggleable__control:checked~label.sk-toggleable__label {background-color: #d4ebff;}#sk-container-id-2 input.sk-hidden--visually {border: 0;clip: rect(1px 1px 1px 1px);clip: rect(1px, 1px, 1px, 1px);height: 1px;margin: -1px;overflow: hidden;padding: 0;position: absolute;width: 1px;}#sk-container-id-2 div.sk-estimator {font-family: monospace;background-color: #f0f8ff;border: 1px dotted black;border-radius: 0.25em;box-sizing: border-box;margin-bottom: 0.5em;}#sk-container-id-2 div.sk-estimator:hover {background-color: #d4ebff;}#sk-container-id-2 div.sk-parallel-item::after {content: \"\";width: 100%;border-bottom: 1px solid gray;flex-grow: 1;}#sk-container-id-2 div.sk-label:hover label.sk-toggleable__label {background-color: #d4ebff;}#sk-container-id-2 div.sk-serial::before {content: \"\";position: absolute;border-left: 1px solid gray;box-sizing: border-box;top: 0;bottom: 0;left: 50%;z-index: 0;}#sk-container-id-2 div.sk-serial {display: flex;flex-direction: column;align-items: center;background-color: white;padding-right: 0.2em;padding-left: 0.2em;position: relative;}#sk-container-id-2 div.sk-item {position: relative;z-index: 1;}#sk-container-id-2 div.sk-parallel {display: flex;align-items: stretch;justify-content: center;background-color: white;position: relative;}#sk-container-id-2 div.sk-item::before, #sk-container-id-2 div.sk-parallel-item::before {content: \"\";position: absolute;border-left: 1px solid gray;box-sizing: border-box;top: 0;bottom: 0;left: 50%;z-index: -1;}#sk-container-id-2 div.sk-parallel-item {display: flex;flex-direction: column;z-index: 1;position: relative;background-color: white;}#sk-container-id-2 div.sk-parallel-item:first-child::after {align-self: flex-end;width: 50%;}#sk-container-id-2 div.sk-parallel-item:last-child::after {align-self: flex-start;width: 50%;}#sk-container-id-2 div.sk-parallel-item:only-child::after {width: 0;}#sk-container-id-2 div.sk-dashed-wrapped {border: 1px dashed gray;margin: 0 0.4em 0.5em 0.4em;box-sizing: border-box;padding-bottom: 0.4em;background-color: white;}#sk-container-id-2 div.sk-label label {font-family: monospace;font-weight: bold;display: inline-block;line-height: 1.2em;}#sk-container-id-2 div.sk-label-container {text-align: center;}#sk-container-id-2 div.sk-container {/* jupyter's `normalize.less` sets `[hidden] { display: none; }` but bootstrap.min.css set `[hidden] { display: none !important; }` so we also need the `!important` here to be able to override the default hidden behavior on the sphinx rendered scikit-learn.org. See: https://github.com/scikit-learn/scikit-learn/issues/21755 */display: inline-block !important;position: relative;}#sk-container-id-2 div.sk-text-repr-fallback {display: none;}</style><div id=\"sk-container-id-2\" class=\"sk-top-container\"><div class=\"sk-text-repr-fallback\"><pre>DecisionTreeRegressor(random_state=1)</pre><b>In a Jupyter environment, please rerun this cell to show the HTML representation or trust the notebook. <br />On GitHub, the HTML representation is unable to render, please try loading this page with nbviewer.org.</b></div><div class=\"sk-container\" hidden><div class=\"sk-item\"><div class=\"sk-estimator sk-toggleable\"><input class=\"sk-toggleable__control sk-hidden--visually\" id=\"sk-estimator-id-2\" type=\"checkbox\" checked><label for=\"sk-estimator-id-2\" class=\"sk-toggleable__label sk-toggleable__label-arrow\">DecisionTreeRegressor</label><div class=\"sk-toggleable__content\"><pre>DecisionTreeRegressor(random_state=1)</pre></div></div></div></div></div>"
      ],
      "text/plain": [
       "DecisionTreeRegressor(random_state=1)"
      ]
     },
     "execution_count": 31,
     "metadata": {},
     "output_type": "execute_result"
    }
   ],
   "source": [
    "from sklearn.tree import DecisionTreeRegressor\n",
    "dec_tree_reg = DecisionTreeRegressor(random_state=1)\n",
    "dec_tree_reg.fit(X_train, y_train)"
   ]
  },
  {
   "cell_type": "code",
   "execution_count": 32,
   "id": "7f021fac",
   "metadata": {},
   "outputs": [],
   "source": [
    "y_pred = dec_tree_reg.predict(X_test)"
   ]
  },
  {
   "cell_type": "code",
   "execution_count": 33,
   "id": "cc7a1dac",
   "metadata": {},
   "outputs": [],
   "source": [
    "error = np.sqrt(mean_squared_error(y_pred, y_test))"
   ]
  },
  {
   "cell_type": "code",
   "execution_count": 34,
   "id": "9ef04f17",
   "metadata": {},
   "outputs": [
    {
     "data": {
      "text/plain": [
       "18.447614708614772"
      ]
     },
     "execution_count": 34,
     "metadata": {},
     "output_type": "execute_result"
    }
   ],
   "source": [
    "error"
   ]
  },
  {
   "cell_type": "code",
   "execution_count": 35,
   "id": "55f63a97",
   "metadata": {},
   "outputs": [
    {
     "data": {
      "text/plain": [
       "array([[-0.76578441, -0.28001609,  1.28645271, -0.24287039,  2.24620893],\n",
       "       [-0.92132904,  0.92566471,  0.42666271, -1.22171165, -0.44519456],\n",
       "       [-0.29915052,  0.92566471, -0.43312729,  1.71481213, -0.44519456],\n",
       "       ...,\n",
       "       [ 0.43968646, -0.68190969,  0.42666271, -0.24287039, -0.44519456],\n",
       "       [-0.5907967 ,  0.52377111, -1.2929173 , -0.24287039, -0.44519456],\n",
       "       [-0.53246747, -0.28001609,  0.42666271, -0.24287039, -0.44519456]])"
      ]
     },
     "execution_count": 35,
     "metadata": {},
     "output_type": "execute_result"
    }
   ],
   "source": [
    "X"
   ]
  },
  {
   "cell_type": "code",
   "execution_count": 36,
   "id": "8071a534",
   "metadata": {},
   "outputs": [
    {
     "data": {
      "text/plain": [
       "array([['1', 'Kolkata', 'Dermatologist', 'MD', 'Yes Post PG']],\n",
       "      dtype='<U13')"
      ]
     },
     "execution_count": 36,
     "metadata": {},
     "output_type": "execute_result"
    }
   ],
   "source": [
    "x = np.array([[1,'Kolkata','Dermatologist', 'MD', 'Yes Post PG']])\n",
    "x"
   ]
  },
  {
   "cell_type": "code",
   "execution_count": 37,
   "id": "fb815019",
   "metadata": {},
   "outputs": [],
   "source": [
    "x[:,2] = le_designatiom.transform(x[:,2])"
   ]
  },
  {
   "cell_type": "code",
   "execution_count": 38,
   "id": "fcbe8177",
   "metadata": {},
   "outputs": [],
   "source": [
    "x[:, 1] = le_location.transform(x[:,1])"
   ]
  },
  {
   "cell_type": "code",
   "execution_count": 39,
   "id": "1034e05c",
   "metadata": {},
   "outputs": [],
   "source": [
    "x[:,3] = le_PG.transform(x[:,3])"
   ]
  },
  {
   "cell_type": "code",
   "execution_count": 40,
   "id": "b6e4106a",
   "metadata": {},
   "outputs": [],
   "source": [
    "x[:,4] = le_PostPG.transform(x[:,4])"
   ]
  },
  {
   "cell_type": "code",
   "execution_count": 41,
   "id": "bc4558cc",
   "metadata": {},
   "outputs": [],
   "source": [
    "x = x.astype(float)"
   ]
  },
  {
   "cell_type": "code",
   "execution_count": 42,
   "id": "841b48af",
   "metadata": {},
   "outputs": [],
   "source": [
    "ans = linear_reg.predict(x)"
   ]
  },
  {
   "cell_type": "code",
   "execution_count": 43,
   "id": "cc26a9c3",
   "metadata": {},
   "outputs": [
    {
     "data": {
      "text/plain": [
       "array([30.50878342])"
      ]
     },
     "execution_count": 43,
     "metadata": {},
     "output_type": "execute_result"
    }
   ],
   "source": [
    "ans"
   ]
  },
  {
   "cell_type": "code",
   "execution_count": 45,
   "id": "8dad336b",
   "metadata": {},
   "outputs": [],
   "source": [
    "import pickle\n",
    "with open('salary_pred.pickle','wb') as f:\n",
    "    pickle.dump(linear_reg,f)"
   ]
  },
  {
   "cell_type": "code",
   "execution_count": null,
   "id": "ac047287",
   "metadata": {},
   "outputs": [],
   "source": []
  },
  {
   "cell_type": "code",
   "execution_count": null,
   "id": "b8747ac9",
   "metadata": {},
   "outputs": [],
   "source": []
  }
 ],
 "metadata": {
  "kernelspec": {
   "display_name": "Python 3 (ipykernel)",
   "language": "python",
   "name": "python3"
  },
  "language_info": {
   "codemirror_mode": {
    "name": "ipython",
    "version": 3
   },
   "file_extension": ".py",
   "mimetype": "text/x-python",
   "name": "python",
   "nbconvert_exporter": "python",
   "pygments_lexer": "ipython3",
   "version": "3.11.0"
  }
 },
 "nbformat": 4,
 "nbformat_minor": 5
}
